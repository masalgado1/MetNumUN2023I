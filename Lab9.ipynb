{
  "nbformat": 4,
  "nbformat_minor": 0,
  "metadata": {
    "colab": {
      "provenance": []
    },
    "kernelspec": {
      "name": "python3",
      "display_name": "Python 3"
    },
    "language_info": {
      "name": "python"
    }
  },
  "cells": [
    {
      "cell_type": "markdown",
      "metadata": {
        "id": "3vUhQTJdGE-8"
      },
      "source": [
        "#**Approximating the exponential function $e^x$ with its Taylor series about $0$** \n",
        "\n",
        "In this task you're asked to find the first (min) $n$ such that the $n$th term of the Taylor series for $e^x$ about $0$ (Maclaurin  series) is in absolute value less than $\\epsilon$.\n",
        "\n",
        "**Taylor series of $e^x$ about $0$ (Maclaurin  series)**\n",
        "\n",
        "\n",
        "$$e^x = \\sum_{i=0}^{\\infty} \\frac{x^{i}}{i!} = 1 + x + \\frac{x^2}{2!} + \\frac{x^3}{3!} +\\cdots+ \\frac{x^n}{n!} + \\cdots $$\n",
        "\n",
        "Consider $1$ the $0$-th term,  $x$ the $1$-st,  $\\frac{x^2}{2!}$ the $2$-nd term, $\\frac{x^3}{3!}$ the $3$-rd term and so on.\n",
        "\n",
        " **Find $n$**\n",
        "\n",
        "$$\\min_{n \\in \\mathbb{N}}\\left|\\frac{x^{n}}{n!}\\right| < \\epsilon$$\n",
        "\n",
        "Also you are asked to caculate the approximation to $e^x$ obatined with the $n$-degree Taylor polynomial for $e^x$ about $0$ calculated in $x$.\n",
        " \n",
        "\n",
        "**Approximate $e^x$**\n",
        "\n",
        "$$e^x \\approx \\sum_{i=0}^{n} \\frac{x^{i}}{i!}$$\n",
        "\n",
        "\n",
        "**Correctness and efficiency**\n",
        "The solution should work correctly for negative $x$ and with a time complexity of order $\\Theta(n)$FLOPs.\n",
        "\n"
      ]
    },
    {
      "cell_type": "markdown",
      "source": [
        "---\n",
        "\n",
        "###**Problem Description**\n",
        "\n",
        "**Task:** Given $x$ and $\\epsilon$ float numbers return the first (min) $n$ such that the $n$th term of the Taylor series for $e^x$ about $0$ (Maclaurin  series) is in absolute value less than $\\epsilon$ and also return the approximation to $e^x$ obatined with the $n$-degree Taylor polynomial for $e^x$ about $0$ calculated in $x$.\n",
        "\n",
        "---\n",
        "\n",
        "**Input Format:** $x$  and $\\epsilon$ float numbers.\n",
        "\n",
        "**Constraints:** $-700< x < 700 $ and $0< \\epsilon < 1 $.\n",
        "\n",
        "**Output Format:** An integer $n$,  that is the first (min) $n$ such that the $n$th term of the Taylor series for $e^x$ about $0$ (Maclaurin  series) is in absolute value less than $\\epsilon$ and a float that is the approximation to $e^x$ obatined with the $n$-degree Taylor polynomial for $e^x$ about $0$ calculated in $x$.\n",
        "\n",
        "---"
      ],
      "metadata": {
        "id": "Oa6xK7Z1QPF3"
      }
    },
    {
      "cell_type": "markdown",
      "metadata": {
        "id": "PjiZC1byHqJu"
      },
      "source": [
        "**Sample testcase**\n",
        "\n",
        "```python\n",
        "#run this sample textcase on a cell to help you validate your solution\n",
        "\n",
        "Taylor_e_to_x_nterm_plus_one_less_epsilon(x=35,epsilon=10**(-20))\n",
        "\n",
        "#  --> Expected output: (132, 1586013452313431.2)\n",
        "\n",
        "Taylor_e_to_x_nterm_plus_one_less_epsilon(x=-35,epsilon=10**(-20))\n",
        "\n",
        "#  --> Expected output: (132, 6.305116760146987e-16)\n",
        "```\n",
        "\n",
        "---"
      ]
    },
    {
      "cell_type": "markdown",
      "metadata": {
        "id": "DJ_bHorAF-Ip"
      },
      "source": [
        "**Solution**"
      ]
    },
    {
      "cell_type": "code",
      "source": [
        "import math\n",
        "\n",
        "def Taylor_e_to_x_nterm_plus_one_less_epsilon(x, epsilon):\n",
        "    if x < -700 or x > 700 or epsilon <= 0 or epsilon >= 1:\n",
        "        return None\n",
        "\n",
        "    n = 0\n",
        "    term = 1\n",
        "    e_to_x = 1\n",
        "\n",
        "    if x >= 0:\n",
        "        while abs(term) >= epsilon:\n",
        "            term *= x / (n + 1)\n",
        "            e_to_x += term\n",
        "            n += 1\n",
        "    else:\n",
        "        e_to_minus_x = 0\n",
        "        while abs(term) >= epsilon:\n",
        "            e_to_minus_x += term\n",
        "            term *= -x / (n + 1)\n",
        "            n += 1\n",
        "            e_to_x = 1 / e_to_minus_x\n",
        "\n",
        "    return n, e_to_x\n"
      ],
      "metadata": {
        "id": "JKfZb9V51mG4"
      },
      "execution_count": 10,
      "outputs": []
    }
  ]
}